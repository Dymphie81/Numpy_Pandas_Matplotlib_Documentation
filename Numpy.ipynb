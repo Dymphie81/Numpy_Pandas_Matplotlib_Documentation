{
  "nbformat": 4,
  "nbformat_minor": 0,
  "metadata": {
    "colab": {
      "provenance": [],
      "toc_visible": true,
      "authorship_tag": "ABX9TyPNS+1X3yEgWP79sXg/E1O1",
      "include_colab_link": true
    },
    "kernelspec": {
      "name": "python3",
      "display_name": "Python 3"
    },
    "language_info": {
      "name": "python"
    }
  },
  "cells": [
    {
      "cell_type": "markdown",
      "metadata": {
        "id": "view-in-github",
        "colab_type": "text"
      },
      "source": [
        "<a href=\"https://colab.research.google.com/github/Dymphie81/Numpy_Pandas_Matplotlib_Documentation/blob/main/Numpy.ipynb\" target=\"_parent\"><img src=\"https://colab.research.google.com/assets/colab-badge.svg\" alt=\"Open In Colab\"/></a>"
      ]
    },
    {
      "cell_type": "code",
      "execution_count": null,
      "metadata": {
        "id": "c14rrx8YPREZ"
      },
      "outputs": [],
      "source": [
        "import numpy as np"
      ]
    },
    {
      "cell_type": "code",
      "source": [
        "#To check the numpy version\n",
        "import numpy as np\n",
        "print(np.__version__)"
      ],
      "metadata": {
        "colab": {
          "base_uri": "https://localhost:8080/"
        },
        "id": "AUOsk0GujWsC",
        "outputId": "e370ecbf-ba8e-418d-c1ca-6133db4d6d34"
      },
      "execution_count": null,
      "outputs": [
        {
          "output_type": "stream",
          "name": "stdout",
          "text": [
            "1.23.5\n"
          ]
        }
      ]
    },
    {
      "cell_type": "code",
      "source": [
        "#To print array and check the array type\n",
        "arr = np.array([1,2,3,4,5,6])\n",
        "print(arr)\n",
        "print(type(arr))"
      ],
      "metadata": {
        "colab": {
          "base_uri": "https://localhost:8080/"
        },
        "id": "5lcgnf2hlkOa",
        "outputId": "93b7ccc6-52b4-49c9-91b2-8b3a034a7b00"
      },
      "execution_count": null,
      "outputs": [
        {
          "output_type": "stream",
          "name": "stdout",
          "text": [
            "[1 2 3 4 5 6]\n",
            "<class 'numpy.ndarray'>\n"
          ]
        }
      ]
    },
    {
      "cell_type": "code",
      "source": [
        "#To use a tuple to create a Numpy array\n",
        "\n",
        "arr = np.array((1,2,3,4,5))\n",
        "print(arr)"
      ],
      "metadata": {
        "colab": {
          "base_uri": "https://localhost:8080/"
        },
        "id": "dkdMiYsFmVAB",
        "outputId": "b8c00109-70e8-470c-f038-4e4295980b9f"
      },
      "execution_count": null,
      "outputs": [
        {
          "output_type": "stream",
          "name": "stdout",
          "text": [
            "[1 2 3 4 5]\n"
          ]
        }
      ]
    },
    {
      "cell_type": "code",
      "source": [
        "# creating an array using np.zeros\n",
        "# create an array with 5 elements filled with zeros\n",
        "\n",
        "arr1 = np.zeros(5)\n",
        "print(arr1)\n",
        "# To create an array filled with ones\n",
        "\n",
        "arr2 = np.ones(4)\n",
        "print(arr2)"
      ],
      "metadata": {
        "colab": {
          "base_uri": "https://localhost:8080/"
        },
        "id": "KtNOzl42sGX4",
        "outputId": "254a78b6-8fa2-4e4e-ae92-21477768dfd8"
      },
      "execution_count": null,
      "outputs": [
        {
          "output_type": "stream",
          "name": "stdout",
          "text": [
            "[0. 0. 0. 0. 0.]\n",
            "[1. 1. 1. 1.]\n"
          ]
        }
      ]
    },
    {
      "cell_type": "code",
      "source": [
        "# create an array with np.arange\n",
        "# create an array with values from zero to four\n",
        "arr1 = np.arange(5)\n",
        "print(arr1)\n",
        "\n",
        "# create an array with values from 1 to 8 with a step of 2\n",
        "arr2 = np.arange(1,9,2)\n",
        "print(arr2)"
      ],
      "metadata": {
        "colab": {
          "base_uri": "https://localhost:8080/"
        },
        "id": "lIkli16_tHf3",
        "outputId": "aaf9e53b-a403-49ef-fd85-4bae19d02f59"
      },
      "execution_count": null,
      "outputs": [
        {
          "output_type": "stream",
          "name": "stdout",
          "text": [
            "[0 1 2 3 4]\n",
            "[1 3 5 7]\n"
          ]
        }
      ]
    },
    {
      "cell_type": "code",
      "source": [
        "# create an array with np.random.rand()\n",
        "# generate an array of 5 random numbers\n",
        "arr1 = np.random.rand(5)\n",
        "print(arr1)\n",
        "\n",
        "\n"
      ],
      "metadata": {
        "colab": {
          "base_uri": "https://localhost:8080/"
        },
        "id": "iU-08Svkuju-",
        "outputId": "bbe2f1d2-5f6a-4b32-d76d-7fbc627fba70"
      },
      "execution_count": null,
      "outputs": [
        {
          "output_type": "stream",
          "name": "stdout",
          "text": [
            "[0.13010947 0.20581095 0.7076502  0.29116602 0.68337034]\n"
          ]
        }
      ]
    },
    {
      "cell_type": "code",
      "source": [
        "# create an empty numpy array\n",
        "\n",
        "arr = np.empty(5)\n",
        "print(arr)"
      ],
      "metadata": {
        "colab": {
          "base_uri": "https://localhost:8080/"
        },
        "id": "J3SoZtabvQon",
        "outputId": "7e130860-4463-4583-b9dc-f28673c8168e"
      },
      "execution_count": null,
      "outputs": [
        {
          "output_type": "stream",
          "name": "stdout",
          "text": [
            "[0.0e+000 4.9e-324 9.9e-324 1.5e-323 2.0e-323]\n"
          ]
        }
      ]
    },
    {
      "cell_type": "code",
      "source": [
        "# create a 0-D array, ndim tells you how many dimension the array has\n",
        "\n",
        "arr = np.array(20)\n",
        "print(arr)\n",
        "print(arr.ndim)"
      ],
      "metadata": {
        "colab": {
          "base_uri": "https://localhost:8080/"
        },
        "id": "irbunU3VLTKq",
        "outputId": "4fdc11b3-fcbe-4311-da45-1cd62157cddd"
      },
      "execution_count": null,
      "outputs": [
        {
          "output_type": "stream",
          "name": "stdout",
          "text": [
            "20\n",
            "0\n"
          ]
        }
      ]
    },
    {
      "cell_type": "code",
      "source": [
        "#create a 1-D array\n",
        "\n",
        "arr = np.array([1,7,8])\n",
        "print(arr, arr.ndim)"
      ],
      "metadata": {
        "colab": {
          "base_uri": "https://localhost:8080/"
        },
        "id": "avKHJkjsMHJt",
        "outputId": "3a20cb76-3c9f-4e50-ff86-ab58c5e59f07"
      },
      "execution_count": null,
      "outputs": [
        {
          "output_type": "stream",
          "name": "stdout",
          "text": [
            "[1 7 8] 1\n"
          ]
        }
      ]
    },
    {
      "cell_type": "code",
      "source": [
        "#create a 2-D array\n",
        "\n",
        "arr = np.array([[1,7,8],[2,4,6]])\n",
        "\n",
        "print(arr, arr.ndim)"
      ],
      "metadata": {
        "colab": {
          "base_uri": "https://localhost:8080/"
        },
        "id": "WFZSphEaMcen",
        "outputId": "defe26fd-28a9-415c-dd76-a70b1b913117"
      },
      "execution_count": null,
      "outputs": [
        {
          "output_type": "stream",
          "name": "stdout",
          "text": [
            "[[1 7 8]\n",
            " [2 4 6]] 2\n"
          ]
        }
      ]
    },
    {
      "cell_type": "code",
      "source": [
        "# create a 3-D array\n",
        "\n",
        "arr = np.array([[[1,2,3,4],[4,5,6,7]],[[8,9,10,11],[12,13,14,15]]])\n",
        "\n",
        "print(arr, arr.ndim)"
      ],
      "metadata": {
        "colab": {
          "base_uri": "https://localhost:8080/"
        },
        "id": "8w9bJBi6NImh",
        "outputId": "f711dcee-3b2d-46f2-b154-9920281e900c"
      },
      "execution_count": null,
      "outputs": [
        {
          "output_type": "stream",
          "name": "stdout",
          "text": [
            "[[[ 1  2  3  4]\n",
            "  [ 4  5  6  7]]\n",
            "\n",
            " [[ 8  9 10 11]\n",
            "  [12 13 14 15]]] 3\n"
          ]
        }
      ]
    },
    {
      "cell_type": "code",
      "source": [
        "# array indexing\n",
        "\n",
        "arr1 = ([1,3,4,7])\n",
        "print(arr1[0])\n",
        "print(arr1[2], arr1[3])"
      ],
      "metadata": {
        "colab": {
          "base_uri": "https://localhost:8080/"
        },
        "id": "k9WzphecOPjI",
        "outputId": "b6c62d41-63f8-4d75-f511-4f173d200f25"
      },
      "execution_count": null,
      "outputs": [
        {
          "output_type": "stream",
          "name": "stdout",
          "text": [
            "1\n",
            "4 7\n"
          ]
        }
      ]
    },
    {
      "cell_type": "code",
      "source": [
        "#Indexing 2-D arrays\n",
        "\n",
        "arry = np.array([[1,2,3,4,5],[6,7,8,9,10]])\n",
        "\n",
        "print('3rd column element on the 1st row: ', arry[0,2])\n",
        "\n",
        "#Indexing 2-D arrays\n",
        "\n",
        "Myarray = np.array([['My', 'mum', 'is'],['the', 'sweetest','soul'],['I','have','ever'],['come','across','love']])\n",
        "\n",
        "print(f\"{Myarray[0,1]} and {Myarray[1,2]} ever love\")"
      ],
      "metadata": {
        "colab": {
          "base_uri": "https://localhost:8080/"
        },
        "id": "UhwBFvHv0zHF",
        "outputId": "148ae477-d6dd-46cf-de51-0467078580d1"
      },
      "execution_count": null,
      "outputs": [
        {
          "output_type": "stream",
          "name": "stdout",
          "text": [
            "3rd column element on the 1st row:  3\n",
            "mum and soul ever love\n"
          ]
        }
      ]
    },
    {
      "cell_type": "code",
      "source": [
        "# Indexing 3-D arrays\n",
        "\n",
        "arr3 = np.array([[[1,2,4,6],[3,9,12,7]],[[10,11,8,6],[12,14,18,20]]])\n",
        "\n",
        "print(\"First 2-D array, Second 1-D array, Second element is\",arr3[0,1,1])"
      ],
      "metadata": {
        "colab": {
          "base_uri": "https://localhost:8080/"
        },
        "id": "FmuhJDvbKk27",
        "outputId": "7915c321-cc7f-4362-9ce2-748fb517f6e4"
      },
      "execution_count": null,
      "outputs": [
        {
          "output_type": "stream",
          "name": "stdout",
          "text": [
            "First 2-D array, Second 1-D array, Second element is 9\n"
          ]
        }
      ]
    },
    {
      "cell_type": "code",
      "source": [
        "#Negative Indexing\n",
        "\n",
        "arr1 = np.array([1,2,3,4])\n",
        "print(\"Last element from 1st dimension\", arr1[-1])\n",
        "\n",
        "arr2 = np.array([['who', 'is', 'in'],['the', 'garden', 'a']])\n",
        "print(\"The last element from the 1st dimension\", arr2[1,-1])\n",
        "\n",
        "arr3 = np.array([[[1,2,3,4],[5,6,7,8]],[[9,10,11,12],[13,14,15,16]]])\n",
        "print(\"The last element from the 3rd dimension\", arr3[0,1,-3])\n"
      ],
      "metadata": {
        "colab": {
          "base_uri": "https://localhost:8080/"
        },
        "id": "PXzjUfJKjOis",
        "outputId": "2f89e9ec-c0fe-4a71-e96c-d151af46164f"
      },
      "execution_count": null,
      "outputs": [
        {
          "output_type": "stream",
          "name": "stdout",
          "text": [
            "Last element from 1st dimension 4\n",
            "The last element from the 1st dimension a\n",
            "The last element from the 3rd dimension 6\n"
          ]
        }
      ]
    },
    {
      "cell_type": "code",
      "source": [
        "# Modifying elements\n",
        "\n",
        "# changing the value of elements in an array\n",
        "\n",
        "arr1 = np.array([1,2,3,4])\n",
        "#Change the value of the first element\n",
        "arr1[0] = 5\n",
        "print(\"After modifying the first element\", arr1)\n",
        "\n",
        "#Change the value of the 4th element\n",
        "arr1[3] = 10\n",
        "print(\"After modifying the 4th element\", arr1)\n",
        "\n",
        "#Modifying Array Elements using Negative Indexing\n",
        "\n",
        "elements = np.array([2,4,6,8])\n",
        "\n",
        "#Change the value of the last element\n",
        "elements[-1] = 10\n",
        "print(\"After modifying the last element\", elements)\n",
        "\n",
        "#Change the third to last element\n",
        "elements[-3] = 8\n",
        "\n",
        "print(\"After modifying the Third to last element\", elements)\n"
      ],
      "metadata": {
        "colab": {
          "base_uri": "https://localhost:8080/"
        },
        "id": "4jxVGAJAR_cq",
        "outputId": "76f0ca8a-1d8c-4fcd-b86f-89fa75eb44fa"
      },
      "execution_count": null,
      "outputs": [
        {
          "output_type": "stream",
          "name": "stdout",
          "text": [
            "After modifying the first element [5 2 3 4]\n",
            "After modifying the 4th element [ 5  2  3 10]\n",
            "After modifying the last element [ 2  4  6 10]\n",
            "After modifying the Third to last element [ 2  8  6 10]\n"
          ]
        }
      ]
    },
    {
      "cell_type": "code",
      "source": [
        "#Array Slicing\n",
        "arr1 =np.array([1,2,3,4,5,6])\n",
        "\n",
        "#Slice array1 from index 1 to index 4\n",
        "print(arr1[1:4])\n",
        "\n",
        "#Create a number array\n",
        "arr2 = np.array([1,2,3,4,5,6,7,8,9])\n",
        "\n",
        "#Slice array from index 4 to the end\n",
        "print(arr2[4:])\n",
        "#Slice array from beginning to index 4\n",
        "print(arr2[:4])\n",
        "#Slice array using the negative index\n",
        "print(arr2[-4:-1])"
      ],
      "metadata": {
        "colab": {
          "base_uri": "https://localhost:8080/"
        },
        "id": "vSnBwiNvX0kE",
        "outputId": "823e210f-2bf9-4d80-e9eb-1c0c0be915dd"
      },
      "execution_count": null,
      "outputs": [
        {
          "output_type": "stream",
          "name": "stdout",
          "text": [
            "[2 3 4]\n",
            "[5 6 7 8 9]\n",
            "[1 2 3 4]\n",
            "[6 7 8]\n"
          ]
        }
      ]
    },
    {
      "cell_type": "code",
      "source": [
        "#Step Slicing\n",
        "arr1 = np.array([1,2,3,4,5,6,7,8,9])\n",
        "#Return every other element from Index 0 to 5\n",
        "print(arr1[0:5:2])\n",
        "\n",
        "# Return every other element from the entire array\n",
        "print(arr1[::2])\n",
        "\n",
        "#Slicing 2-D arrays\n",
        "arr2 = np.array([[1,2,3,4],[5,6,7,8,]])\n",
        "\n",
        "print(arr2[1, 2:5])\n",
        "\n",
        "#from both elements return index 2\n",
        "print(arr2[0:2, 2])\n",
        "\n",
        "#Modifying array elements using slicing\n",
        "\n",
        "# create a numpy array\n",
        "numbers = np.array([2, 4, 6, 8, 10, 12])\n",
        "\n",
        "# modify elements from index 3 onwards\n",
        "numbers[3:] = 20\n",
        "print(numbers)\n",
        "\n",
        "#Reverse array using negative indexing\n",
        "print(numbers[::-1])\n",
        "\n"
      ],
      "metadata": {
        "colab": {
          "base_uri": "https://localhost:8080/"
        },
        "id": "XrglH5TAj-H0",
        "outputId": "79aae07a-4f65-4272-d498-12098bc95ef2"
      },
      "execution_count": null,
      "outputs": [
        {
          "output_type": "stream",
          "name": "stdout",
          "text": [
            "[1 3 5]\n",
            "[1 3 5 7 9]\n",
            "[7 8]\n",
            "[3 7]\n",
            "[ 2  4  6 20 20 20]\n",
            "[20 20 20  6  4  2]\n"
          ]
        }
      ]
    },
    {
      "cell_type": "code",
      "source": [
        "# Checking Data Types\n",
        "arr = np.array([1,2,3,4,5,6])\n",
        "print([arr. dtype])\n",
        "\n",
        "# create an array of floating-point numbers\n",
        "float_array = np.array([0.1, 0.2, 0.3])\n",
        "\n",
        "# create an array of complex numbers\n",
        "complex_array = np.array([1+2j, 2+3j, 3+4j])\n",
        "\n",
        "# create an array of strings\n",
        "string_array = np.array(['who','are','you ?'])\n",
        "\n",
        "# check the data type of float_array\n",
        "print(float_array.dtype)\n",
        "\n",
        "# check the data type of complex_array\n",
        "print(complex_array.dtype)\n",
        "\n",
        "# check the data type of string_array\n",
        "print(string_array.dtype)\n",
        "\n",
        "# Creating arrays with defined data types\n",
        "\n",
        "#create an array with data type string\n",
        "arr1 = np.array([2, 4, 6, 8], dtype='S')\n",
        "\n",
        "# create an array of unsigned 16-bit integers\n",
        "arr2 = np.array([1, 2, 6], dtype='uint16')\n",
        "\n",
        "# create an array of 32-bit floating-point numbers\n",
        "arr3 = np.array([1.4, 2.5, 3.8], dtype='float32')\n",
        "\n",
        "# create an array of 64-bit complex numbers\n",
        "arr4 = np.array([1+8j, 2+3j, 3+5j], dtype='complex64')\n",
        "\n",
        "# print the arrays and their data types\n",
        "print(arr1, arr1.dtype)\n",
        "print(arr2, arr2.dtype)\n",
        "print(arr3, arr3.dtype)\n",
        "print(arr4, arr4.dtype)\n",
        "\n",
        "\n"
      ],
      "metadata": {
        "colab": {
          "base_uri": "https://localhost:8080/"
        },
        "id": "97owcYT6K9nW",
        "outputId": "6df46344-6a08-410e-81d1-65b4bfa04a5d"
      },
      "execution_count": null,
      "outputs": [
        {
          "output_type": "stream",
          "name": "stdout",
          "text": [
            "[dtype('int64')]\n",
            "float64\n",
            "complex128\n",
            "<U5\n",
            "[b'2' b'4' b'6' b'8'] |S1\n",
            "[1 2 6] uint16\n",
            "[1.4 2.5 3.8] float32\n",
            "[1.+8.j 2.+3.j 3.+5.j] complex64\n"
          ]
        }
      ]
    },
    {
      "cell_type": "code",
      "source": [
        "# converting data types on existing arrays\n",
        "\n",
        "#convert data type float to integer\n",
        "\n",
        "arr1 = np.array([3.1, 2.1, 4.4])\n",
        "\n",
        "newarr1 = arr.astype('i')\n",
        "\n",
        "print(newarr1)\n",
        "print(newarr1.dtype)\n",
        "\n",
        "# change data type from float to integer\n",
        "arr5 = np.array([1.2,1.3,1.4,1.5], dtype='I')\n",
        "print(arr5, arr5.dtype)\n",
        "\n",
        "# change data type from integer to boolean\n",
        "arr6 = np.array([1,2,3,4], dtype='bool')\n",
        "print(arr6, arr6.dtype)"
      ],
      "metadata": {
        "colab": {
          "base_uri": "https://localhost:8080/"
        },
        "id": "sDARiMyLVCsT",
        "outputId": "0685c060-ac4f-46e3-e923-0a9c50d26251"
      },
      "execution_count": null,
      "outputs": [
        {
          "output_type": "stream",
          "name": "stdout",
          "text": [
            "[1 2 3 4 5 6]\n",
            "int32\n",
            "[1 1 1 1] uint32\n",
            "[ True  True  True  True] bool\n"
          ]
        }
      ]
    },
    {
      "cell_type": "code",
      "source": [
        "# make a copy of an array\n",
        "arr = np.array([1,2,3,4])\n",
        "a = arr.copy()\n",
        "print(a)\n",
        "#make changes to array\n",
        "arr[1] = 10\n",
        "print(arr)\n",
        "print(a)\n",
        "\n",
        "# To view the array\n",
        "b= arr.view()\n",
        "print(b)\n",
        "\n",
        "#To check if an array owns its data or not\n",
        "\n",
        "a = arr.copy()\n",
        "b = arr.view()\n",
        "print(a.base)\n",
        "print(b.base)"
      ],
      "metadata": {
        "colab": {
          "base_uri": "https://localhost:8080/"
        },
        "id": "FTdlNsdhmCdX",
        "outputId": "5649f735-5132-46c5-9eb6-3ed3f2101159"
      },
      "execution_count": null,
      "outputs": [
        {
          "output_type": "stream",
          "name": "stdout",
          "text": [
            "[1 2 3 4]\n",
            "[ 1 10  3  4]\n",
            "[1 2 3 4]\n",
            "[ 1 10  3  4]\n",
            "None\n",
            "[ 1 10  3  4]\n"
          ]
        }
      ]
    },
    {
      "cell_type": "code",
      "source": [
        "# To get the shape of an array\n",
        "\n",
        "arr1 = np.array([[1,2,3,4],[5,6,7,8]])\n",
        "print(arr1.shape)\n",
        "\n",
        "arr2 = np.array([1,2,3])\n",
        "print(arr2.shape)\n",
        "\n",
        "arr3 = np.array([[[1,2,3,4],[5,6,7,8]],[[9,10,11,12],[13,14,15,16]]])\n",
        "print(arr3.shape)\n",
        "\n",
        "arr = np.array([1, 2, 3, 4], ndmin=5)\n",
        "\n",
        "print(arr)\n",
        "print('shape of array :', arr.shape)"
      ],
      "metadata": {
        "colab": {
          "base_uri": "https://localhost:8080/"
        },
        "id": "0jyX8c1Hpt_Z",
        "outputId": "98fb4b5b-2e92-413f-9a12-2c946c2241b4"
      },
      "execution_count": null,
      "outputs": [
        {
          "output_type": "stream",
          "name": "stdout",
          "text": [
            "(2, 4)\n",
            "(3,)\n",
            "(2, 2, 4)\n",
            "[[[[[1 2 3 4]]]]]\n",
            "shape of array : (1, 1, 1, 1, 4)\n"
          ]
        }
      ]
    },
    {
      "cell_type": "code",
      "source": [
        "# Reshaping arrays\n",
        "# Convert 1-D array to 2-D array\n",
        "arr1 = np.array([1,2,3,4,5,6,7,8,9])\n",
        "newarr = arr1.reshape(3,3)\n",
        "print(newarr)\n",
        "\n",
        "#convert 1-D array to 3-D array\n",
        "arr2 = np.array([1,2,3,4,5,6,7,8,9,10,11,12])\n",
        "newarr2 = arr2.reshape(2,3,2)\n",
        "print(newarr2)"
      ],
      "metadata": {
        "colab": {
          "base_uri": "https://localhost:8080/"
        },
        "id": "h8z_sh8exB3Y",
        "outputId": "558b5398-1051-46b9-843e-e3f15b84e179"
      },
      "execution_count": null,
      "outputs": [
        {
          "output_type": "stream",
          "name": "stdout",
          "text": [
            "[[1 2 3]\n",
            " [4 5 6]\n",
            " [7 8 9]]\n",
            "[[[ 1  2]\n",
            "  [ 3  4]\n",
            "  [ 5  6]]\n",
            "\n",
            " [[ 7  8]\n",
            "  [ 9 10]\n",
            "  [11 12]]]\n"
          ]
        }
      ]
    },
    {
      "cell_type": "code",
      "source": [
        "# Flattening numpy arrays\n",
        "# convert 2-D array into 1-D\n",
        "arr1 = np.array([[1, 2, 3, 4], [5, 6, 7, 8]])\n",
        "newarr = arr1.reshape(-1)\n",
        "print(newarr)\n"
      ],
      "metadata": {
        "colab": {
          "base_uri": "https://localhost:8080/"
        },
        "id": "_Hm1YTzAzFvk",
        "outputId": "0a1de67d-ada0-4d7f-c13b-e413fac939aa"
      },
      "execution_count": 3,
      "outputs": [
        {
          "output_type": "stream",
          "name": "stdout",
          "text": [
            "[1 2 3 4 5 6 7 8]\n"
          ]
        }
      ]
    },
    {
      "cell_type": "code",
      "source": [
        "# iterating arrays\n",
        "# iterate on the 1-D array\n",
        "arr = np.array([1,2,3,4])\n",
        "\n",
        "for x in arr:\n",
        "  print(x)\n",
        "\n",
        "# iterate on the elements of the 2-D array\n",
        "\n",
        "arr1 = np.array([[1,2,3,4],[5,6,7,8]])\n",
        "for x in arr1:\n",
        "  print(x)\n",
        "# To get the actual values reiterate on the scalar elements\n",
        "arr2 = np.array([[[1, 2, 3], [4, 5, 6]]])\n",
        "\n",
        "for x in arr2:\n",
        "   for y in x:\n",
        "       print(y)\n",
        "# iterate on the 3-D elements\n",
        "arr3 = np.array([[[1, 2, 3], [4, 5, 6]], [[7, 8, 9], [10, 11, 12]]])\n",
        "for x in arr3:\n",
        "   print(x)\n",
        "\n",
        "# iterating arrays using nditer\n",
        "arr = np.array([[[1, 2], [3, 4]], [[5, 6], [7, 8]]])\n",
        "\n",
        "for x in np.nditer(arr):\n",
        "  print(x)\n"
      ],
      "metadata": {
        "colab": {
          "base_uri": "https://localhost:8080/"
        },
        "id": "Mo_V8HLen7HB",
        "outputId": "71c4a792-6695-46b7-e191-aad47bae8161"
      },
      "execution_count": 8,
      "outputs": [
        {
          "output_type": "stream",
          "name": "stdout",
          "text": [
            "1\n",
            "2\n",
            "3\n",
            "4\n",
            "[1 2 3 4]\n",
            "[5 6 7 8]\n",
            "[1 2 3]\n",
            "[4 5 6]\n",
            "[[1 2 3]\n",
            " [4 5 6]]\n",
            "[[ 7  8  9]\n",
            " [10 11 12]]\n",
            "1\n",
            "2\n",
            "3\n",
            "4\n",
            "5\n",
            "6\n",
            "7\n",
            "8\n"
          ]
        }
      ]
    }
  ]
}